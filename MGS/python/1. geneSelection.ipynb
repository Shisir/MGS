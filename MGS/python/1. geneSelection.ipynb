{
 "cells": [
  {
   "cell_type": "code",
   "execution_count": 1,
   "metadata": {},
   "outputs": [],
   "source": [
    "import numpy as np\n",
    "import pandas as pd\n",
    "import scipy.io"
   ]
  },
  {
   "cell_type": "code",
   "execution_count": 2,
   "metadata": {},
   "outputs": [
    {
     "name": "stdout",
     "output_type": "stream",
     "text": [
      "(21, 111)\n",
      "(10, 1)\n",
      "[[array([[2.        , 9.        ],\n",
      "       [9.        , 2.        ],\n",
      "       [0.91148636, 0.83555504]])]\n",
      " [array([[1.        , 2.        ],\n",
      "       [9.        , 2.        ],\n",
      "       [0.87822097, 0.79807125]])]]\n"
     ]
    }
   ],
   "source": [
    "df = pd.read_csv('data/sampleDataset.csv')\n",
    "print(df.shape)\n",
    "\n",
    "mat = scipy.io.loadmat('data/sampleDataset.mat')\n",
    "res = mat['aa']\n",
    "data = res.reshape(-1,1)\n",
    "print(data.shape)\n",
    "print(data[:2,:])"
   ]
  },
  {
   "cell_type": "code",
   "execution_count": 3,
   "metadata": {},
   "outputs": [
    {
     "name": "stdout",
     "output_type": "stream",
     "text": [
      "(20,)\n",
      "[2 9 1 2 1 2 1 2 1 2 1 2 1 2 1 2 1 2 1 2]\n"
     ]
    }
   ],
   "source": [
    "idxes = []\n",
    "for fold in data:\n",
    "    for idxs in fold:\n",
    "        for idx in idxs[0]:\n",
    "            idxes.append(int(idx))\n",
    "final = np.asarray(idxes)\n",
    "print(final.shape)\n",
    "print(final)"
   ]
  },
  {
   "cell_type": "code",
   "execution_count": 4,
   "metadata": {},
   "outputs": [
    {
     "name": "stdout",
     "output_type": "stream",
     "text": [
      "[[ 2 10]\n",
      " [ 1  9]\n",
      " [ 9  1]]\n",
      "Index(['FOXO1', 'IQGAP1', 'GLCE'], dtype='object')\n"
     ]
    }
   ],
   "source": [
    "from collections import Counter\n",
    "cnt = Counter(final)\n",
    "mfi = np.array(cnt.most_common())\n",
    "print(mfi)\n",
    "genes = df.columns[mfi[:,0]]\n",
    "print(genes)"
   ]
  },
  {
   "cell_type": "code",
   "execution_count": 5,
   "metadata": {},
   "outputs": [],
   "source": [
    "# Gene Selection based on Frequency\n",
    "selectedGene = np.array(df.columns[mfi[:,0]])\n",
    "np.savetxt('selectedGenes/selectedGene_frequency.csv',selectedGene, delimiter=',', fmt='%s')"
   ]
  },
  {
   "cell_type": "code",
   "execution_count": null,
   "metadata": {},
   "outputs": [],
   "source": []
  },
  {
   "cell_type": "code",
   "execution_count": 6,
   "metadata": {},
   "outputs": [
    {
     "name": "stdout",
     "output_type": "stream",
     "text": [
      "(21, 3)\n",
      "(21,) [1. 1. 1. 1. 1. 1. 1. 1. 1. 1. 1. 1. 1. 0. 0. 0. 0. 0. 0. 0. 0.]\n"
     ]
    }
   ],
   "source": [
    "# Gene Selection based on RF feature importance\n",
    "X = df.iloc[:,mfi[:,0]].values\n",
    "y = df.values[:,0]\n",
    "print(X.shape)\n",
    "print(y.shape, y)"
   ]
  },
  {
   "cell_type": "code",
   "execution_count": 7,
   "metadata": {},
   "outputs": [],
   "source": [
    "from sklearn.ensemble import RandomForestClassifier as RF\n",
    "import numpy as np\n",
    "SEED = 0\n",
    "np.random.seed(SEED)\n",
    "n_tree = 300\n",
    "rf = RF(n_estimators = n_tree, max_depth = 5, criterion='entropy', random_state = SEED)\n",
    "def get_vectors(X, y, rf):\n",
    "    rf.fit(X,y)\n",
    "    trees = [tree.tree_ for tree in rf.estimators_]\n",
    "    leaves = rf.apply(X)\n",
    "    N = X.shape[0]\n",
    "    n_classes = len(np.unique(y))\n",
    "    vectors = []\n",
    "    for ind, tree in enumerate(trees):\n",
    "        values = tree.value[leaves[:,ind]][:,0,:]\n",
    "        maxes = np.max(values, axis=1).reshape((N,1))\n",
    "        vec = 1*(values==maxes)\n",
    "        vectors += [vec]\n",
    "    vectors = np.array(vectors).transpose(1,0,2)\n",
    "    feature_importance = [tree.feature_importances_.T for tree in rf.estimators_]\n",
    "    feature_importance = np.array(feature_importance)\n",
    "    return vectors, feature_importance\n",
    "\n",
    "def get_output_vectors(X, y, rf):\n",
    "    trees = [tree.tree_ for tree in rf.estimators_]\n",
    "    leaves = rf.apply(X)\n",
    "    N = X.shape[0]\n",
    "    n_classes = len(np.unique(y))\n",
    "    vectors = []\n",
    "    for ind, tree in enumerate(trees):\n",
    "        values = tree.value[leaves[:,ind]][:,0,:]\n",
    "        maxes = np.max(values, axis=1).reshape((N,1))\n",
    "        vec = 1*(values==maxes)\n",
    "        vectors += [vec]\n",
    "    vectors = np.array(vectors).transpose(1,0,2)\n",
    "    feature_importance = [tree.feature_importances_.T for tree in rf.estimators_]\n",
    "    feature_importance = np.array(feature_importance)\n",
    "    return vectors, feature_importance  "
   ]
  },
  {
   "cell_type": "code",
   "execution_count": 8,
   "metadata": {},
   "outputs": [],
   "source": [
    "rf = RF(n_estimators = n_tree, max_depth = 5, criterion='entropy', random_state = SEED)\n",
    "vector, featureImportance = get_vectors(X,y,rf)"
   ]
  },
  {
   "cell_type": "code",
   "execution_count": 9,
   "metadata": {},
   "outputs": [],
   "source": [
    "a = featureImportance\n",
    "fs = np.sum(a, axis =0)\n",
    "c = sorted(fs, reverse=True)\n",
    "b = np.argsort(fs)\n",
    "f = np.flip(genes[b[0:101]])\n",
    "np.savetxt(\"selectedGenes/selectedGene_RF.csv\", f, delimiter=\",\", fmt='%s')"
   ]
  },
  {
   "cell_type": "code",
   "execution_count": null,
   "metadata": {},
   "outputs": [],
   "source": []
  }
 ],
 "metadata": {
  "kernelspec": {
   "display_name": "Python 3",
   "language": "python",
   "name": "python3"
  },
  "language_info": {
   "codemirror_mode": {
    "name": "ipython",
    "version": 3
   },
   "file_extension": ".py",
   "mimetype": "text/x-python",
   "name": "python",
   "nbconvert_exporter": "python",
   "pygments_lexer": "ipython3",
   "version": "3.7.1"
  }
 },
 "nbformat": 4,
 "nbformat_minor": 2
}

{
 "cells": [
  {
   "cell_type": "code",
   "execution_count": 1,
   "metadata": {},
   "outputs": [],
   "source": [
    "import numpy as np\n",
    "import pandas as pd\n",
    "from scipy import stats"
   ]
  },
  {
   "cell_type": "code",
   "execution_count": 2,
   "metadata": {},
   "outputs": [
    {
     "name": "stdout",
     "output_type": "stream",
     "text": [
      "['FOXO1' 'IQGAP1' 'GLCE']\n"
     ]
    }
   ],
   "source": [
    "fileName = 'selectedGenes/selectedGene_frequency.csv'\n",
    "selectedGenes = pd.read_csv(fileName, header = None).values.flatten()\n",
    "print(selectedGenes)"
   ]
  },
  {
   "cell_type": "code",
   "execution_count": 3,
   "metadata": {},
   "outputs": [
    {
     "data": {
      "text/html": [
       "<div>\n",
       "<style scoped>\n",
       "    .dataframe tbody tr th:only-of-type {\n",
       "        vertical-align: middle;\n",
       "    }\n",
       "\n",
       "    .dataframe tbody tr th {\n",
       "        vertical-align: top;\n",
       "    }\n",
       "\n",
       "    .dataframe thead th {\n",
       "        text-align: right;\n",
       "    }\n",
       "</style>\n",
       "<table border=\"1\" class=\"dataframe\">\n",
       "  <thead>\n",
       "    <tr style=\"text-align: right;\">\n",
       "      <th></th>\n",
       "      <th>Label</th>\n",
       "      <th>IQGAP1</th>\n",
       "      <th>FOXO1</th>\n",
       "      <th>CDC42EP4</th>\n",
       "      <th>BE501966</th>\n",
       "      <th>AF130091</th>\n",
       "      <th>CRISPLD2</th>\n",
       "      <th>HOXD11</th>\n",
       "      <th>C15orf59</th>\n",
       "      <th>GLCE</th>\n",
       "      <th>...</th>\n",
       "      <th>EPCAM</th>\n",
       "      <th>PLCL1</th>\n",
       "      <th>PA2G4</th>\n",
       "      <th>MAMDC2</th>\n",
       "      <th>LOC441204</th>\n",
       "      <th>AI652919</th>\n",
       "      <th>LGALS3</th>\n",
       "      <th>LINC00665</th>\n",
       "      <th>SLIT1</th>\n",
       "      <th>AKIP1</th>\n",
       "    </tr>\n",
       "  </thead>\n",
       "  <tbody>\n",
       "    <tr>\n",
       "      <th>0</th>\n",
       "      <td>1</td>\n",
       "      <td>1390.707367</td>\n",
       "      <td>232.596033</td>\n",
       "      <td>391.878533</td>\n",
       "      <td>1459.720</td>\n",
       "      <td>113.274</td>\n",
       "      <td>1050.67715</td>\n",
       "      <td>38.9582</td>\n",
       "      <td>30.03575</td>\n",
       "      <td>223.720</td>\n",
       "      <td>...</td>\n",
       "      <td>2513.31</td>\n",
       "      <td>55.75400</td>\n",
       "      <td>628.225</td>\n",
       "      <td>95.9092</td>\n",
       "      <td>56.441375</td>\n",
       "      <td>32.6741</td>\n",
       "      <td>545.38600</td>\n",
       "      <td>189.880288</td>\n",
       "      <td>123.07530</td>\n",
       "      <td>182.51570</td>\n",
       "    </tr>\n",
       "    <tr>\n",
       "      <th>1</th>\n",
       "      <td>1</td>\n",
       "      <td>1698.328333</td>\n",
       "      <td>243.188433</td>\n",
       "      <td>436.153733</td>\n",
       "      <td>790.416</td>\n",
       "      <td>152.258</td>\n",
       "      <td>1471.97100</td>\n",
       "      <td>25.8530</td>\n",
       "      <td>22.78500</td>\n",
       "      <td>295.900</td>\n",
       "      <td>...</td>\n",
       "      <td>2652.90</td>\n",
       "      <td>90.26735</td>\n",
       "      <td>487.815</td>\n",
       "      <td>78.9580</td>\n",
       "      <td>30.650750</td>\n",
       "      <td>15.5884</td>\n",
       "      <td>1122.09215</td>\n",
       "      <td>124.043707</td>\n",
       "      <td>58.31150</td>\n",
       "      <td>153.99935</td>\n",
       "    </tr>\n",
       "    <tr>\n",
       "      <th>2</th>\n",
       "      <td>1</td>\n",
       "      <td>1538.764633</td>\n",
       "      <td>196.422933</td>\n",
       "      <td>406.892400</td>\n",
       "      <td>842.691</td>\n",
       "      <td>136.974</td>\n",
       "      <td>983.06930</td>\n",
       "      <td>28.8775</td>\n",
       "      <td>27.96905</td>\n",
       "      <td>328.334</td>\n",
       "      <td>...</td>\n",
       "      <td>3425.47</td>\n",
       "      <td>40.94150</td>\n",
       "      <td>582.937</td>\n",
       "      <td>77.8575</td>\n",
       "      <td>64.953100</td>\n",
       "      <td>25.0948</td>\n",
       "      <td>632.14720</td>\n",
       "      <td>174.704315</td>\n",
       "      <td>93.50215</td>\n",
       "      <td>198.01870</td>\n",
       "    </tr>\n",
       "  </tbody>\n",
       "</table>\n",
       "<p>3 rows × 111 columns</p>\n",
       "</div>"
      ],
      "text/plain": [
       "   Label       IQGAP1       FOXO1    CDC42EP4  BE501966  AF130091    CRISPLD2  \\\n",
       "0      1  1390.707367  232.596033  391.878533  1459.720   113.274  1050.67715   \n",
       "1      1  1698.328333  243.188433  436.153733   790.416   152.258  1471.97100   \n",
       "2      1  1538.764633  196.422933  406.892400   842.691   136.974   983.06930   \n",
       "\n",
       "    HOXD11  C15orf59     GLCE    ...        EPCAM     PLCL1    PA2G4   MAMDC2  \\\n",
       "0  38.9582  30.03575  223.720    ...      2513.31  55.75400  628.225  95.9092   \n",
       "1  25.8530  22.78500  295.900    ...      2652.90  90.26735  487.815  78.9580   \n",
       "2  28.8775  27.96905  328.334    ...      3425.47  40.94150  582.937  77.8575   \n",
       "\n",
       "   LOC441204  AI652919      LGALS3   LINC00665      SLIT1      AKIP1  \n",
       "0  56.441375   32.6741   545.38600  189.880288  123.07530  182.51570  \n",
       "1  30.650750   15.5884  1122.09215  124.043707   58.31150  153.99935  \n",
       "2  64.953100   25.0948   632.14720  174.704315   93.50215  198.01870  \n",
       "\n",
       "[3 rows x 111 columns]"
      ]
     },
     "execution_count": 3,
     "metadata": {},
     "output_type": "execute_result"
    }
   ],
   "source": [
    "dataPath = 'data/sampleDataset.csv'\n",
    "df = pd.read_csv(dataPath)\n",
    "df.head(3)"
   ]
  },
  {
   "cell_type": "code",
   "execution_count": 4,
   "metadata": {},
   "outputs": [
    {
     "name": "stdout",
     "output_type": "stream",
     "text": [
      "(21, 3)\n",
      "(21,) [2. 2. 2. 2. 2. 2. 2. 2. 2. 2. 2. 2. 2. 1. 1. 1. 1. 1. 1. 1. 1.]\n"
     ]
    }
   ],
   "source": [
    "X = df.loc[:,selectedGenes].values\n",
    "X = stats.zscore(X, axis = 0)\n",
    "y = df.values[:,0]+1\n",
    "print(X.shape)\n",
    "print(y.shape, y)"
   ]
  },
  {
   "cell_type": "code",
   "execution_count": 5,
   "metadata": {},
   "outputs": [],
   "source": [
    "def permanceMetrics(Y, pred, pred_prob):\n",
    "    acc = accuracy_score(Y,pred)\n",
    "    acrc = roc_auc_score(Y,pred_prob[:,1])\n",
    "    return np.array([acc, acrc])"
   ]
  },
  {
   "cell_type": "code",
   "execution_count": 6,
   "metadata": {},
   "outputs": [],
   "source": [
    "def saveres(sr, rr):\n",
    "    b = np.append(sr.reshape(1,-1), rr.reshape(1,-1), axis=0)\n",
    "    np.savetxt('validationResult.csv', b, delimiter=',', fmt='%s')"
   ]
  },
  {
   "cell_type": "code",
   "execution_count": 7,
   "metadata": {},
   "outputs": [
    {
     "name": "stdout",
     "output_type": "stream",
     "text": [
      "(21, 3)\n",
      "SVM: Acc. AUROC\n",
      "[0.95238095 1.        ]\n",
      "RF: Acc. AUROC\n",
      "[1. 1.]\n"
     ]
    }
   ],
   "source": [
    "from sklearn import model_selection\n",
    "from sklearn.metrics import accuracy_score\n",
    "from sklearn.metrics import roc_auc_score\n",
    "\n",
    "from sklearn.ensemble import RandomForestClassifier as RF\n",
    "from sklearn.svm import SVC\n",
    "loocv = model_selection.LeaveOneOut()\n",
    "\n",
    "SEED = 22\n",
    "n_tree = 300\n",
    "\n",
    "ts = []\n",
    "ps = []\n",
    "preds = []\n",
    "\n",
    "prd =[]\n",
    "predd = []\n",
    "\n",
    "pk = []\n",
    "predk = []\n",
    "\n",
    "pr = []\n",
    "predr = []\n",
    "print(X.shape)\n",
    "for train_index, test_index in loocv.split(X):\n",
    "    X_train, X_test = X[train_index], X[test_index]\n",
    "    Y_train, Y_test = y[train_index], y[test_index]\n",
    "    ts+=[Y_test]\n",
    "    \n",
    "    svm = SVC(kernel='linear', probability=True)\n",
    "    rf = RF(n_estimators = n_tree, max_depth = 5, criterion='entropy', random_state = SEED)\n",
    "    \n",
    "    svm.fit(X_train,Y_train)\n",
    "    pred = svm.predict(X_test)\n",
    "    pred_prob = svm.predict_proba(X_test)\n",
    "    ps+=[pred]\n",
    "    preds+=[pred_prob]\n",
    "    \n",
    "    rf.fit(X_train,Y_train)\n",
    "    pred = rf.predict(X_test)\n",
    "    pred_prob = rf.predict_proba(X_test)\n",
    "    pr+=[pred]\n",
    "    predr+=[pred_prob]\n",
    "\n",
    "t = np.array(ts)\n",
    "pre_prob = np.asarray(preds).reshape(-1,2)\n",
    "pre_d = np.asarray(predd).reshape(-1,2)\n",
    "pre_k = np.asarray(predk).reshape(-1,2)\n",
    "pre_r = np.asarray(predr).reshape(-1,2)\n",
    "\n",
    "sr = permanceMetrics(t, ps, pre_prob)\n",
    "rr = permanceMetrics(t, pr, pre_r)\n",
    "saveres(sr, rr)\n",
    "\n",
    "print('SVM: Acc. AUROC')\n",
    "print(sr)\n",
    "print('RF: Acc. AUROC')\n",
    "print(rr)"
   ]
  },
  {
   "cell_type": "markdown",
   "metadata": {},
   "source": [
    "#K-FOLD crosss validation"
   ]
  },
  {
   "cell_type": "code",
   "execution_count": 8,
   "metadata": {},
   "outputs": [],
   "source": [
    "def permanceMetrics(Y, pred, pred_prob):\n",
    "    acc = accuracy_score(Y,pred)\n",
    "    acrc = roc_auc_score(Y,pred_prob[:,1])\n",
    "    return acc, acrc"
   ]
  },
  {
   "cell_type": "code",
   "execution_count": 9,
   "metadata": {},
   "outputs": [],
   "source": [
    "def avgMetric(met):\n",
    "    res = np.array(met)\n",
    "    acc = res[::2].mean()\n",
    "    acrc = res[1::2].mean()\n",
    "    return np.array([acc, acrc])"
   ]
  },
  {
   "cell_type": "code",
   "execution_count": 10,
   "metadata": {},
   "outputs": [
    {
     "name": "stdout",
     "output_type": "stream",
     "text": [
      "(21, 3)\n",
      "SVM: Acc. AUROC\n",
      "[0.96 1.  ]\n",
      "RF: Acc. AUROC\n",
      "[1. 1.]\n"
     ]
    }
   ],
   "source": [
    "from sklearn import model_selection\n",
    "from sklearn.metrics import accuracy_score\n",
    "from sklearn.metrics import roc_auc_score\n",
    "from sklearn.model_selection import StratifiedKFold\n",
    "\n",
    "from sklearn.ensemble import RandomForestClassifier as RF\n",
    "from sklearn.svm import SVC\n",
    "\n",
    "import warnings\n",
    "warnings.filterwarnings('ignore')\n",
    "\n",
    "kfold = StratifiedKFold(n_splits=5, shuffle=True, random_state=42)\n",
    "SEED = 22\n",
    "n_tree = 300\n",
    "\n",
    "sm = []\n",
    "dm = []\n",
    "km = []\n",
    "rm = []\n",
    "\n",
    "print(X.shape)\n",
    "for train_index, test_index in kfold.split(X,y):\n",
    "    X_train, X_test = X[train_index], X[test_index]\n",
    "    Y_train, Y_test = y[train_index], y[test_index]\n",
    "    ts+=[Y_test]\n",
    "    \n",
    "    svm = SVC(kernel='linear', probability=True)\n",
    "    rf = RF(n_estimators = n_tree, max_depth = 5, criterion='entropy', random_state = SEED)\n",
    "    \n",
    "    svm.fit(X_train,Y_train)\n",
    "    pred = svm.predict(X_test)\n",
    "    pred_prob = svm.predict_proba(X_test)    \n",
    "    acc, acrc = permanceMetrics(Y_test, pred, pred_prob)\n",
    "    sm+= [acc, acrc]    \n",
    "    rf.fit(X_train,Y_train)\n",
    "    pred = rf.predict(X_test)\n",
    "    pred_prob = rf.predict_proba(X_test)\n",
    "    acc, acrc = permanceMetrics(Y_test, pred, pred_prob)\n",
    "    rm+= [acc, acrc]\n",
    "    \n",
    "print('SVM: Acc. AUROC')\n",
    "print(avgMetric(sm))\n",
    "print('RF: Acc. AUROC')\n",
    "print(avgMetric(rm))\n",
    "\n",
    "saveres(avgMetric(sm), avgMetric(rm))"
   ]
  },
  {
   "cell_type": "code",
   "execution_count": null,
   "metadata": {},
   "outputs": [],
   "source": []
  }
 ],
 "metadata": {
  "kernelspec": {
   "display_name": "Python 3",
   "language": "python",
   "name": "python3"
  },
  "language_info": {
   "codemirror_mode": {
    "name": "ipython",
    "version": 3
   },
   "file_extension": ".py",
   "mimetype": "text/x-python",
   "name": "python",
   "nbconvert_exporter": "python",
   "pygments_lexer": "ipython3",
   "version": "3.7.1"
  }
 },
 "nbformat": 4,
 "nbformat_minor": 2
}
